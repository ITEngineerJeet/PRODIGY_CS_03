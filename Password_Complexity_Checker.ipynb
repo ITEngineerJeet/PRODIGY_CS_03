{
  "nbformat": 4,
  "nbformat_minor": 0,
  "metadata": {
    "colab": {
      "provenance": []
    },
    "kernelspec": {
      "name": "python3",
      "display_name": "Python 3"
    },
    "language_info": {
      "name": "python"
    }
  },
  "cells": [
    {
      "cell_type": "code",
      "execution_count": 1,
      "metadata": {
        "id": "goea94p-hWDX"
      },
      "outputs": [],
      "source": [
        "import string"
      ]
    },
    {
      "cell_type": "code",
      "source": [
        "def check_password_strength(password):\n",
        "    # Criteria\n",
        "    length_error = len(password) < 8\n",
        "    digit_error = not any(char.isdigit() for char in password)\n",
        "    uppercase_error = not any(char.isupper() for char in password)\n",
        "    lowercase_error = not any(char.islower() for char in password)\n",
        "    special_error = not any(char in string.punctuation for char in password)\n",
        "\n",
        "    # Determine strength\n",
        "    password_strength = {\n",
        "        \"Weak\": length_error,\n",
        "        \"Moderate\": digit_error or uppercase_error or lowercase_error or special_error,\n",
        "        \"Strong\": not (length_error or digit_error or uppercase_error or lowercase_error or special_error)\n",
        "    }\n",
        "\n",
        "    # Return result\n",
        "    for strength, criteria_met in password_strength.items():\n",
        "        if criteria_met:\n",
        "            return strength"
      ],
      "metadata": {
        "id": "U2Tl6glZhqfw"
      },
      "execution_count": 2,
      "outputs": []
    },
    {
      "cell_type": "code",
      "source": [
        "def main():\n",
        "    print(\"Password Strength Checker\")\n",
        "    print(\"Criteria:\")\n",
        "    print(\"- Minimum 8 characters\")\n",
        "    print(\"- At least one uppercase letter\")\n",
        "    print(\"- At least one lowercase letter\")\n",
        "    print(\"- At least one digit (0-9)\")\n",
        "    print(\"- At least one special character (e.g., !, @, #, $, etc.)\")\n",
        "    print()\n",
        "\n",
        "    while True:\n",
        "        password = input(\"Enter a password: \")\n",
        "        if not password:\n",
        "            print(\"Password cannot be empty. Please try again.\")\n",
        "            continue\n",
        "\n",
        "        strength = check_password_strength(password)\n",
        "        print(f\"Password strength: {strength}\")\n",
        "        print()\n",
        "\n",
        "        if strength == \"Strong\":\n",
        "            break\n",
        "        else:\n",
        "            print(\"Password is not strong enough. Please choose a stronger password.\")\n",
        "\n",
        "if __name__ == \"__main__\":\n",
        "    main()"
      ],
      "metadata": {
        "colab": {
          "base_uri": "https://localhost:8080/"
        },
        "id": "UxkPWu7_iGVO",
        "outputId": "b35051a7-1139-4248-d064-3a9d07471c4b"
      },
      "execution_count": 4,
      "outputs": [
        {
          "output_type": "stream",
          "name": "stdout",
          "text": [
            "Password Strength Checker\n",
            "Criteria:\n",
            "- Minimum 8 characters\n",
            "- At least one uppercase letter\n",
            "- At least one lowercase letter\n",
            "- At least one digit (0-9)\n",
            "- At least one special character (e.g., !, @, #, $, etc.)\n",
            "\n",
            "Enter a password: Jeet@2002\n",
            "Password strength: Strong\n",
            "\n"
          ]
        }
      ]
    },
    {
      "cell_type": "code",
      "source": [],
      "metadata": {
        "id": "gC9egkqaiHVD"
      },
      "execution_count": null,
      "outputs": []
    }
  ]
}